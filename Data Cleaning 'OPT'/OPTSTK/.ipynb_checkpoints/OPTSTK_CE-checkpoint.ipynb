{
 "cells": [
  {
   "cell_type": "code",
   "execution_count": null,
   "metadata": {},
   "outputs": [],
   "source": [
    "import numpy as np\n",
    "import pandas as pd"
   ]
  },
  {
   "cell_type": "code",
   "execution_count": null,
   "metadata": {},
   "outputs": [],
   "source": [
    "df = pd.read_csv('bhavdata.csv')\n",
    "df"
   ]
  },
  {
   "cell_type": "code",
   "execution_count": null,
   "metadata": {},
   "outputs": [],
   "source": [
    "df.shape"
   ]
  },
  {
   "cell_type": "code",
   "execution_count": null,
   "metadata": {},
   "outputs": [],
   "source": [
    "df = df[df['INSTRUMENT'].str.contains('OPTSTK')]\n",
    "df"
   ]
  },
  {
   "cell_type": "code",
   "execution_count": null,
   "metadata": {},
   "outputs": [],
   "source": [
    "multisymbols = [\n",
    "    'ACC',\n",
    "    'ADANIENT',\n",
    "    'ADANIPORTS',\n",
    "    'AMARAJABAT',\n",
    "    'AMBUJACEM',\n",
    "    'APOLLOHOSP',\n",
    "    'APOLLOTYRE',\n",
    "    'ASHOKLEY',\n",
    "    'ASIANPAINT',\n",
    "    'AUROPHARMA',\n",
    "    'AXISBANK',\n",
    "    'BAJAJ-AUTO',\n",
    "    'BAJAJFINSV',\n",
    "    'BAJFINANCE',\n",
    "    'BALKRISIND',\n",
    "    'BANDHANBNK',\n",
    "    'BANKBARODA',\n",
    "    'BATAINDIA',\n",
    "    'BEL',\n",
    "    'BERGEPAINT',\n",
    "    'BHARATFORG',\n",
    "    'BHARTIARTL',\n",
    "    'BHEL',\n",
    "    'BIOCON',\n",
    "    'BOSCHLTD',\n",
    "    'BPCL',\n",
    "    'BRITANNIA',\n",
    "    'CADILAHC',\n",
    "    'CANBK',\n",
    "    'CENTURYTEX',\n",
    "    'CHOLAFIN',\n",
    "    'CIPLA',\n",
    "    'COALINDIA',\n",
    "    'COLPAL',\n",
    "    'CONCOR',\n",
    "    'CUMMINSIND',\n",
    "    'DABUR',\n",
    "    'DIVISLAB',\n",
    "    'DLF',\n",
    "    'DRREDDY',\n",
    "    'EICHERMOT',\n",
    "    'EQUITAS',\n",
    "    'ESCORTS',\n",
    "    'EXIDEIND',\n",
    "    'FEDERALBNK',\n",
    "    'GAIL',\n",
    "    'GLENMARK',\n",
    "    'GMRINFRA',\n",
    "    'GODREJCP',\n",
    "    'GODREJPROP',\n",
    "    'GRASIM',\n",
    "    'HAVELLS',\n",
    "    'HCLTECH',\n",
    "    'HDFC',\n",
    "    'HDFCBANK',\n",
    "    'HDFCLIFE',\n",
    "    'HEROMOTOCO',\n",
    "    'HINDALCO',\n",
    "    'HINDPETRO',\n",
    "    'HINDUNILVR',\n",
    "    'IBULHSGFIN',\n",
    "    'ICICIBANK',\n",
    "    'ICICIPRULI',\n",
    "    'IDEA',\n",
    "    'IDFCFIRSTB',\n",
    "    'IGL',\n",
    "    'INDIGO',\n",
    "    'INDUSINDBK',\n",
    "    'INFRATEL',\n",
    "    'INFY',\n",
    "    'IOC',\n",
    "    'ITC',\n",
    "    'JINDALSTEL',\n",
    "    'JSWSTEEL',\n",
    "    'JUBLFOOD',\n",
    "    'KOTAKBANK',\n",
    "    'L&TFH',\n",
    "    'LICHSGFIN',\n",
    "    'LT',\n",
    "    'LUPIN',\n",
    "    'M&M',\n",
    "    'M&MFIN',\n",
    "    'MANAPPURAM',\n",
    "    'MARICO',\n",
    "    'MARUTI',\n",
    "    'MCDOWELL-N',\n",
    "    'MFSL',\n",
    "    'MGL',\n",
    "    'MINDTREE',\n",
    "    'MOTHERSUMI',\n",
    "    'MRF',\n",
    "    'MUTHOOTFIN',\n",
    "    'NATIONALUM',\n",
    "    'NAUKRI',\n",
    "    'NESTLEIND',\n",
    "    'NIITTECH',\n",
    "    'NMDC',\n",
    "    'NTPC',\n",
    "    'ONGC',\n",
    "    'PAGEIND',\n",
    "    'PEL',\n",
    "    'PETRONET',\n",
    "    'PFC',\n",
    "    'PIDILITIND',\n",
    "    'PNB',\n",
    "    'POWERGRID',\n",
    "    'PVR',\n",
    "    'RAMCOCEM',\n",
    "    'RBLBANK',\n",
    "    'RECLTD',\n",
    "    'RELIANCE',\n",
    "    'SAIL',\n",
    "    'SBILIFE',\n",
    "    'SBIN',\n",
    "    'SHREECEM',\n",
    "    'SEIMENS',\n",
    "    'SRF',\n",
    "    'SRTRANSFIN',\n",
    "    'SUNPHARMA',\n",
    "    'SUNTV',\n",
    "    'TATACHEM',\n",
    "    'TATACONSUM',\n",
    "    'TATAMOTORS',\n",
    "    'TATAPOWER',\n",
    "    'TATASTEEL',\n",
    "    'TCS',\n",
    "    'TECHM',\n",
    "    'TITAN',\n",
    "    'TORNTPHARM',\n",
    "    'TORNTPOWER',\n",
    "    'TVSMOTOR',\n",
    "    'UBL',\n",
    "    'UJJIVAN',\n",
    "    'ULTRACEMCO',\n",
    "    'UPL',\n",
    "    'VEDL',\n",
    "    'VOLTAS',\n",
    "    'WIPRO',\n",
    "    'ZEEL' \n",
    "    ]\n",
    "df = df[df['SYMBOL'].isin(multisymbols)]\n",
    "df"
   ]
  },
  {
   "cell_type": "code",
   "execution_count": null,
   "metadata": {},
   "outputs": [],
   "source": [
    "dates = [\"27-Aug-2020\"] \n",
    "df = df[df['EXPIRY_DT'].isin(dates)]\n",
    "df"
   ]
  },
  {
   "cell_type": "code",
   "execution_count": null,
   "metadata": {},
   "outputs": [],
   "source": [
    "df = df[df['OPTION_TYP'].str.contains(\"CE\")]\n",
    "df"
   ]
  },
  {
   "cell_type": "code",
   "execution_count": null,
   "metadata": {},
   "outputs": [],
   "source": [
    "for element in multisymbols:\n",
    "    df = df[df['SYMBOL'].isin(element)]\n",
    "#     df[df['SYMBOL'].str.contains(element)]\n",
    "    df = df.sort_values(['CHG_IN_OI'], ascending=False)\n",
    "    df = df.iloc[:1]\n",
    "    \n",
    "    \n",
    "df\n",
    "df = df.to_csv(\"DATA.csv\", mode=\"a\")\n",
    "#     df.sort_values(\"diff\").groupby(\"item\", as_index=False).first()"
   ]
  },
  {
   "cell_type": "code",
   "execution_count": null,
   "metadata": {},
   "outputs": [],
   "source": [
    "df"
   ]
  },
  {
   "cell_type": "code",
   "execution_count": null,
   "metadata": {},
   "outputs": [],
   "source": [
    "# for symbol in multisymbols:\n",
    "# aggregation_dict = {col: 'first' for col in df4.columns}\n",
    "# aggregation_dict['CHG_IN_OI'] = 'max'\n",
    "# df4 = df4.groupby(['SYMBOL'], as_index=True).agg({'INSTRUMENT':'first', 'EXPIRY_DT':'first', 'STRIKE_PR':'first', 'OPTION_TYP':'first', 'OPEN':'first', 'HIGH':'first', 'LOW':'first', 'CLOSE': 'first','SETTLE_PR':'first','CONTRACTS':'first','VAL_INLAKH':'first','OPEN_INT':'first','CHG_IN_OI': 'max', 'TIMESTAMP':'first', 'Unnamed:15':'first'})\n",
    "# df6 = df5.groupby(['SYMBOL'], as_index=False).agg(aggregation_dict)\n",
    "# df6\n",
    "# df4 = filter_by_max_chg_in_oi(df4, symbol)"
   ]
  },
  {
   "cell_type": "code",
   "execution_count": null,
   "metadata": {},
   "outputs": [],
   "source": [
    "# df4.to_csv('OPTSTK_CE_Stocks.csv')"
   ]
  }
 ],
 "metadata": {
  "kernelspec": {
   "display_name": "Python 3",
   "language": "python",
   "name": "python3"
  },
  "language_info": {
   "codemirror_mode": {
    "name": "ipython",
    "version": 3
   },
   "file_extension": ".py",
   "mimetype": "text/x-python",
   "name": "python",
   "nbconvert_exporter": "python",
   "pygments_lexer": "ipython3",
   "version": "3.8.2"
  }
 },
 "nbformat": 4,
 "nbformat_minor": 4
}
